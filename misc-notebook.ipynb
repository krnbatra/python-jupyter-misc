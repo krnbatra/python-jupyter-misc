{
 "cells": [
  {
   "cell_type": "markdown",
   "metadata": {},
   "source": [
    "### args and kwargs"
   ]
  },
  {
   "cell_type": "code",
   "execution_count": 4,
   "metadata": {},
   "outputs": [
    {
     "name": "stdout",
     "output_type": "stream",
     "text": [
      "(1, 2, 3)\n",
      "{'name': 'karan', 'age': 23}\n"
     ]
    }
   ],
   "source": [
    "# args for positional arguments\n",
    "# kwargs is used for keyword arguments\n",
    "def test_method(*args, **kwargs):\n",
    "    print(args)\n",
    "    print(kwargs)\n",
    "\n",
    "test_method(1, 2, 3, name='karan', age=23)"
   ]
  },
  {
   "cell_type": "markdown",
   "metadata": {},
   "source": [
    "### setattr"
   ]
  },
  {
   "cell_type": "code",
   "execution_count": 5,
   "metadata": {},
   "outputs": [
    {
     "name": "stdout",
     "output_type": "stream",
     "text": [
      "dog\n",
      "Pug\n"
     ]
    }
   ],
   "source": [
    "class Animal:\n",
    "    def __init__(self, **kwargs):\n",
    "        for attribute, value in kwargs.items():\n",
    "            setattr(self, attribute, value)\n",
    "\n",
    "dog = Animal(type='dog', breed='Pug')\n",
    "print(dog.type)\n",
    "print(dog.breed)"
   ]
  },
  {
   "cell_type": "markdown",
   "metadata": {},
   "source": [
    "### f-strings"
   ]
  },
  {
   "cell_type": "code",
   "execution_count": 9,
   "metadata": {},
   "outputs": [
    {
     "name": "stdout",
     "output_type": "stream",
     "text": [
      "hello world\n"
     ]
    }
   ],
   "source": [
    "# f-strings\n",
    "sample_str = \"hello\"\n",
    "print(f'{sample_str} world')"
   ]
  },
  {
   "cell_type": "markdown",
   "metadata": {},
   "source": [
    "### underscore for big numbers"
   ]
  },
  {
   "cell_type": "code",
   "execution_count": 12,
   "metadata": {},
   "outputs": [
    {
     "name": "stdout",
     "output_type": "stream",
     "text": [
      "1000000\n"
     ]
    }
   ],
   "source": [
    "million = 1_000_000\n",
    "print(million)"
   ]
  },
  {
   "cell_type": "markdown",
   "metadata": {},
   "source": [
    "### lambda functions"
   ]
  },
  {
   "cell_type": "code",
   "execution_count": 15,
   "metadata": {},
   "outputs": [
    {
     "name": "stdout",
     "output_type": "stream",
     "text": [
      "105\n"
     ]
    }
   ],
   "source": [
    "# lambda functions\n",
    "y = lambda x, y: x + y  # an anonymous function which takes x and y and input and returns x+y\n",
    "print(y(100,5))  # call the function"
   ]
  },
  {
   "cell_type": "markdown",
   "metadata": {},
   "source": [
    "### pretty print"
   ]
  },
  {
   "cell_type": "code",
   "execution_count": 21,
   "metadata": {},
   "outputs": [
    {
     "name": "stdout",
     "output_type": "stream",
     "text": [
      "     hello               world\n"
     ]
    }
   ],
   "source": [
    "# pretty printing with spaces\n",
    "string = \"hello\"\n",
    "print(\"{:>10}{:>20}\".format(string, \"world\"))"
   ]
  },
  {
   "cell_type": "markdown",
   "metadata": {},
   "source": [
    "### reading multiple lines at once"
   ]
  },
  {
   "cell_type": "code",
   "execution_count": 23,
   "metadata": {},
   "outputs": [
    {
     "name": "stdout",
     "output_type": "stream",
     "text": [
      "[]\n"
     ]
    }
   ],
   "source": [
    "# reading multiple lines at once, reading from stdin\n",
    "# will have to strip() if multiple lines\n",
    "import sys\n",
    "msg = sys.stdin.readlines()\n",
    "print(msg)"
   ]
  },
  {
   "cell_type": "markdown",
   "metadata": {},
   "source": [
    "### merging 2 dictionaries"
   ]
  },
  {
   "cell_type": "code",
   "execution_count": 27,
   "metadata": {},
   "outputs": [
    {
     "name": "stdout",
     "output_type": "stream",
     "text": [
      "{'a': 1, 'b': 3, 'c': 4}\n"
     ]
    }
   ],
   "source": [
    "x = {'a': 1, 'b': 2}\n",
    "y = {'b': 3, 'c': 4}\n",
    "\n",
    "z = {**x, **y}  # overwrites the keys, the latter dict keys are given preference\n",
    "print(z)"
   ]
  },
  {
   "cell_type": "markdown",
   "metadata": {},
   "source": [
    "### sorting python dict by value"
   ]
  },
  {
   "cell_type": "code",
   "execution_count": 32,
   "metadata": {},
   "outputs": [
    {
     "name": "stdout",
     "output_type": "stream",
     "text": [
      "[('d', 1), ('c', 2), ('b', 3), ('a', 4)]\n",
      "[('d', 1), ('c', 2), ('b', 3), ('a', 4)]\n"
     ]
    }
   ],
   "source": [
    "# How to sort a Python dict by value\n",
    "# (== get a representation sorted by value)\n",
    "\n",
    "xs = {'a': 4, 'b': 3, 'c': 2, 'd': 1}\n",
    "\n",
    "print(sorted(xs.items(), key=lambda x: x[1]))\n",
    "\n",
    "\n",
    "# Or:\n",
    "\n",
    "from operator import itemgetter\n",
    "print(sorted(xs.items(), key=itemgetter(1)))\n"
   ]
  },
  {
   "cell_type": "markdown",
   "metadata": {},
   "source": [
    "### decorators"
   ]
  },
  {
   "cell_type": "code",
   "execution_count": 38,
   "metadata": {},
   "outputs": [
    {
     "name": "stderr",
     "output_type": "stream",
     "text": [
      "DEBUG:root:Called print_2 with args () and kwargs {}\n",
      "DEBUG:root:Called print_4 with args () and kwargs {}\n",
      "DEBUG:root:Called sub with args (5, 2) and kwargs {}\n",
      "DEBUG:root:Called sub with args (5, 2) and kwargs {'switch': True}\n",
      "DEBUG:root:Called multiply with args (2, 3) and kwargs {}\n"
     ]
    },
    {
     "name": "stdout",
     "output_type": "stream",
     "text": [
      "2\n",
      "4\n",
      "multiply\n",
      "Mulitplies 2 numbers\n"
     ]
    }
   ],
   "source": [
    "from functools import wraps\n",
    "\n",
    "def add(x, y):\n",
    "    return x + y\n",
    "\n",
    "def sub(x, y):\n",
    "    return x - y\n",
    "\n",
    "# decorators are functions that accepts functions as arguments\n",
    "def logme(func):\n",
    "    import logging\n",
    "    logging.basicConfig(level=logging.DEBUG)\n",
    "    \n",
    "    @wraps(func)   # decorator itself which is responsible for doing inner.__name__ = func.__name and inner.__doc__ = func.__doc__\n",
    "    def inner(*args, **kwargs):\n",
    "        logging.debug(\"Called {} with args {} and kwargs {}\".format(func.__name__, args, kwargs))\n",
    "        return func(*args, **kwargs)\n",
    "    return inner\n",
    "\n",
    "def print_2():\n",
    "    print(2)\n",
    "\n",
    "# one way of using decorator function\n",
    "print_2 = logme(print_2)\n",
    "print_2()\n",
    "\n",
    "# common way of using decorator function\n",
    "@logme\n",
    "def print_4():\n",
    "    print(4)\n",
    "\n",
    "print_4()\n",
    "\n",
    "@logme\n",
    "def sub(x, y, switch=False):\n",
    "    return x - y if not switch else y - x\n",
    "\n",
    "sub(5,2)\n",
    "\n",
    "sub(5,2,switch=True)\n",
    "\n",
    "@logme\n",
    "def multiply(x, y):\n",
    "    '''Mulitplies 2 numbers'''\n",
    "    return x * y\n",
    "\n",
    "multiply(2, 3)\n",
    "print(multiply.__name__)\n",
    "print(multiply.__doc__)"
   ]
  }
 ],
 "metadata": {
  "kernelspec": {
   "display_name": "Python 3",
   "language": "python",
   "name": "python3"
  },
  "language_info": {
   "codemirror_mode": {
    "name": "ipython",
    "version": 3
   },
   "file_extension": ".py",
   "mimetype": "text/x-python",
   "name": "python",
   "nbconvert_exporter": "python",
   "pygments_lexer": "ipython3",
   "version": "3.7.4"
  }
 },
 "nbformat": 4,
 "nbformat_minor": 2
}
