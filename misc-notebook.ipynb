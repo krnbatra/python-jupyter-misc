{
 "cells": [
  {
   "cell_type": "markdown",
   "metadata": {},
   "source": [
    "## Table Of Contents:\n",
    "* [args and kwargs](#args-and-kwargs)\n",
    "* [setattr](#setattr)\n",
    "* [f-strings](#f-strings)\n",
    "* [underscore for big numbers](#underscore-for-big-numbers)\n",
    "* [lambda functions](#lambda-functions)\n",
    "* [pretty print](#pretty-print)\n",
    "* [reading multiple lines at once](#reading-multiple-lines-at-once)\n",
    "* [merging 2 dictionaries](#merging-2-dictionaries)\n",
    "* [sorting python dict by value](#sorting-python-dict-by-value)\n",
    "* [decorators](#decorators)\n",
    "* [requests](#requests)\n",
    "* [datetime](#datetime)"
   ]
  },
  {
   "cell_type": "markdown",
   "metadata": {},
   "source": [
    "### <a name=\"args-and-kwargs\">args and kwargs</a>"
   ]
  },
  {
   "cell_type": "code",
   "execution_count": 4,
   "metadata": {},
   "outputs": [
    {
     "name": "stdout",
     "output_type": "stream",
     "text": [
      "(1, 2, 3)\n",
      "{'name': 'karan', 'age': 23}\n"
     ]
    }
   ],
   "source": [
    "# args for positional arguments\n",
    "# kwargs is used for keyword arguments\n",
    "def test_method(*args, **kwargs):\n",
    "    print(args)\n",
    "    print(kwargs)\n",
    "\n",
    "test_method(1, 2, 3, name='karan', age=23)"
   ]
  },
  {
   "cell_type": "markdown",
   "metadata": {},
   "source": [
    "### <a name=\"setattr\">setattr</a>"
   ]
  },
  {
   "cell_type": "code",
   "execution_count": 5,
   "metadata": {},
   "outputs": [
    {
     "name": "stdout",
     "output_type": "stream",
     "text": [
      "dog\n",
      "Pug\n"
     ]
    }
   ],
   "source": [
    "class Animal:\n",
    "    def __init__(self, **kwargs):\n",
    "        for attribute, value in kwargs.items():\n",
    "            setattr(self, attribute, value)\n",
    "\n",
    "dog = Animal(type='dog', breed='Pug')\n",
    "print(dog.type)\n",
    "print(dog.breed)"
   ]
  },
  {
   "cell_type": "markdown",
   "metadata": {},
   "source": [
    "### <a name=\"f-strings\">f-strings</a>"
   ]
  },
  {
   "cell_type": "code",
   "execution_count": 9,
   "metadata": {},
   "outputs": [
    {
     "name": "stdout",
     "output_type": "stream",
     "text": [
      "hello world\n"
     ]
    }
   ],
   "source": [
    "# f-strings\n",
    "sample_str = \"hello\"\n",
    "print(f'{sample_str} world')"
   ]
  },
  {
   "cell_type": "markdown",
   "metadata": {},
   "source": [
    "### <a name=\"underscore-for-big-numbers\">underscore for big numbers</a>"
   ]
  },
  {
   "cell_type": "code",
   "execution_count": 12,
   "metadata": {},
   "outputs": [
    {
     "name": "stdout",
     "output_type": "stream",
     "text": [
      "1000000\n"
     ]
    }
   ],
   "source": [
    "million = 1_000_000\n",
    "print(million)"
   ]
  },
  {
   "cell_type": "markdown",
   "metadata": {},
   "source": [
    "### <a name=\"lambda-functions\">lambda functions</a>"
   ]
  },
  {
   "cell_type": "code",
   "execution_count": 15,
   "metadata": {},
   "outputs": [
    {
     "name": "stdout",
     "output_type": "stream",
     "text": [
      "105\n"
     ]
    }
   ],
   "source": [
    "# lambda functions\n",
    "y = lambda x, y: x + y  # an anonymous function which takes x and y and input and returns x+y\n",
    "print(y(100,5))  # call the function"
   ]
  },
  {
   "cell_type": "markdown",
   "metadata": {},
   "source": [
    "### <a name=\"pretty-print\">pretty print</a>"
   ]
  },
  {
   "cell_type": "code",
   "execution_count": 21,
   "metadata": {},
   "outputs": [
    {
     "name": "stdout",
     "output_type": "stream",
     "text": [
      "     hello               world\n"
     ]
    }
   ],
   "source": [
    "# pretty printing with spaces\n",
    "string = \"hello\"\n",
    "print(\"{:>10}{:>20}\".format(string, \"world\"))"
   ]
  },
  {
   "cell_type": "markdown",
   "metadata": {},
   "source": [
    "### <a name=\"reading-multiple-lines-at-once\">reading multiple lines at once</a>"
   ]
  },
  {
   "cell_type": "code",
   "execution_count": 23,
   "metadata": {},
   "outputs": [
    {
     "name": "stdout",
     "output_type": "stream",
     "text": [
      "[]\n"
     ]
    }
   ],
   "source": [
    "# reading multiple lines at once, reading from stdin\n",
    "# will have to strip() if multiple lines\n",
    "import sys\n",
    "msg = sys.stdin.readlines()\n",
    "print(msg)"
   ]
  },
  {
   "cell_type": "markdown",
   "metadata": {},
   "source": [
    "### <a name=\"merging-2-dictionaries\">merging 2 dictionaries</a>"
   ]
  },
  {
   "cell_type": "code",
   "execution_count": 27,
   "metadata": {},
   "outputs": [
    {
     "name": "stdout",
     "output_type": "stream",
     "text": [
      "{'a': 1, 'b': 3, 'c': 4}\n"
     ]
    }
   ],
   "source": [
    "x = {'a': 1, 'b': 2}\n",
    "y = {'b': 3, 'c': 4}\n",
    "\n",
    "z = {**x, **y}  # overwrites the keys, the latter dict keys are given preference\n",
    "print(z)"
   ]
  },
  {
   "cell_type": "markdown",
   "metadata": {},
   "source": [
    "### <a name=\"sorting-python-dict-by-value\">sorting python dict by value</a>"
   ]
  },
  {
   "cell_type": "code",
   "execution_count": 32,
   "metadata": {},
   "outputs": [
    {
     "name": "stdout",
     "output_type": "stream",
     "text": [
      "[('d', 1), ('c', 2), ('b', 3), ('a', 4)]\n",
      "[('d', 1), ('c', 2), ('b', 3), ('a', 4)]\n"
     ]
    }
   ],
   "source": [
    "# How to sort a Python dict by value\n",
    "# (== get a representation sorted by value)\n",
    "\n",
    "xs = {'a': 4, 'b': 3, 'c': 2, 'd': 1}\n",
    "\n",
    "print(sorted(xs.items(), key=lambda x: x[1]))\n",
    "\n",
    "\n",
    "# Or:\n",
    "\n",
    "from operator import itemgetter\n",
    "print(sorted(xs.items(), key=itemgetter(1)))\n"
   ]
  },
  {
   "cell_type": "markdown",
   "metadata": {},
   "source": [
    "### <a name=\"decorators\">decorators</a>"
   ]
  },
  {
   "cell_type": "code",
   "execution_count": 38,
   "metadata": {},
   "outputs": [
    {
     "name": "stderr",
     "output_type": "stream",
     "text": [
      "DEBUG:root:Called print_2 with args () and kwargs {}\n",
      "DEBUG:root:Called print_4 with args () and kwargs {}\n",
      "DEBUG:root:Called sub with args (5, 2) and kwargs {}\n",
      "DEBUG:root:Called sub with args (5, 2) and kwargs {'switch': True}\n",
      "DEBUG:root:Called multiply with args (2, 3) and kwargs {}\n"
     ]
    },
    {
     "name": "stdout",
     "output_type": "stream",
     "text": [
      "2\n",
      "4\n",
      "multiply\n",
      "Mulitplies 2 numbers\n"
     ]
    }
   ],
   "source": [
    "from functools import wraps\n",
    "\n",
    "def add(x, y):\n",
    "    return x + y\n",
    "\n",
    "def sub(x, y):\n",
    "    return x - y\n",
    "\n",
    "# decorators are functions that accepts functions as arguments\n",
    "def logme(func):\n",
    "    import logging\n",
    "    logging.basicConfig(level=logging.DEBUG)\n",
    "    \n",
    "    @wraps(func)   # decorator itself which is responsible for doing inner.__name__ = func.__name and inner.__doc__ = func.__doc__\n",
    "    def inner(*args, **kwargs):\n",
    "        logging.debug(\"Called {} with args {} and kwargs {}\".format(func.__name__, args, kwargs))\n",
    "        return func(*args, **kwargs)\n",
    "    return inner\n",
    "\n",
    "def print_2():\n",
    "    print(2)\n",
    "\n",
    "# one way of using decorator function\n",
    "print_2 = logme(print_2)\n",
    "print_2()\n",
    "\n",
    "# common way of using decorator function\n",
    "@logme\n",
    "def print_4():\n",
    "    print(4)\n",
    "\n",
    "print_4()\n",
    "\n",
    "@logme\n",
    "def sub(x, y, switch=False):\n",
    "    return x - y if not switch else y - x\n",
    "\n",
    "sub(5,2)\n",
    "\n",
    "sub(5,2,switch=True)\n",
    "\n",
    "@logme\n",
    "def multiply(x, y):\n",
    "    '''Mulitplies 2 numbers'''\n",
    "    return x * y\n",
    "\n",
    "multiply(2, 3)\n",
    "print(multiply.__name__)\n",
    "print(multiply.__doc__)"
   ]
  },
  {
   "cell_type": "markdown",
   "metadata": {},
   "source": [
    "### <a name=\"requests\">requests</a>"
   ]
  },
  {
   "cell_type": "code",
   "execution_count": 39,
   "metadata": {},
   "outputs": [
    {
     "name": "stderr",
     "output_type": "stream",
     "text": [
      "DEBUG:urllib3.connectionpool:Starting new HTTP connection (1): httpbin.org:80\n",
      "DEBUG:urllib3.connectionpool:http://httpbin.org:80 \"GET /get HTTP/1.1\" 200 307\n",
      "DEBUG:urllib3.connectionpool:Starting new HTTPS connection (1): api.github.com:443\n"
     ]
    },
    {
     "name": "stdout",
     "output_type": "stream",
     "text": [
      "200\n",
      "True\n",
      "{'Date': 'Sun, 26 Apr 2020 13:46:28 GMT', 'Content-Type': 'application/json', 'Content-Length': '307', 'Connection': 'keep-alive', 'Server': 'gunicorn/19.9.0', 'Access-Control-Allow-Origin': '*', 'Access-Control-Allow-Credentials': 'true'}\n"
     ]
    },
    {
     "name": "stderr",
     "output_type": "stream",
     "text": [
      "DEBUG:urllib3.connectionpool:https://api.github.com:443 \"GET /events HTTP/1.1\" 200 None\n",
      "DEBUG:urllib3.connectionpool:Starting new HTTP connection (1): httpbin.org:80\n"
     ]
    },
    {
     "name": "stdout",
     "output_type": "stream",
     "text": [
      "[{'id': '12160514973', 'type': 'PushEvent', 'actor': {'id': 35751984, 'login': 'wangx733', 'display_login': 'wangx733', 'gravatar_id': '', 'url': 'https://api.github.com/users/wangx733', 'avatar_url': 'https://avatars.githubusercontent.com/u/35751984?'}, 'repo': {'id': 186538848, 'name': 'wangx733/alonellaw', 'url': 'https://api.github.com/repos/wangx733/alonellaw'}, 'payload': {'push_id': 4977539839, 'size': 1, 'distinct_size': 1, 'ref': 'refs/heads/master', 'head': 'a2886267eb2706f56d3ce26a1d2bb19e4cadf6bf', 'before': '8bdb0f0bf06cfc2901dc0c543be2d5457e02638c', 'commits': [{'sha': 'a2886267eb2706f56d3ce26a1d2bb19e4cadf6bf', 'author': {'email': 'wangx733@newschool.edu', 'name': 'wangx733'}, 'message': 'change domian', 'distinct': True, 'url': 'https://api.github.com/repos/wangx733/alonellaw/commits/a2886267eb2706f56d3ce26a1d2bb19e4cadf6bf'}]}, 'public': True, 'created_at': '2020-04-26T13:41:28Z'}, {'id': '12160514976', 'type': 'PullRequestReviewCommentEvent', 'actor': {'id': 5667064, 'login': 'bobchaos', 'display_login': 'bobchaos', 'gravatar_id': '', 'url': 'https://api.github.com/users/bobchaos', 'avatar_url': 'https://avatars.githubusercontent.com/u/5667064?'}, 'repo': {'id': 41571541, 'name': 'inspec/inspec', 'url': 'https://api.github.com/repos/inspec/inspec'}, 'payload': {'action': 'created', 'comment': {'url': 'https://api.github.com/repos/inspec/inspec/pulls/comments/415313643', 'pull_request_review_id': 400505880, 'id': 415313643, 'node_id': 'MDI0OlB1bGxSZXF1ZXN0UmV2aWV3Q29tbWVudDQxNTMxMzY0Mw==', 'diff_hunk': '@@ -201,9 +200,9 @@ def add_target(target, _opts = [])\\n \\n     def supports_profile?(profile)\\n       unless profile.supports_runtime?\\n-        raise \"This profile requires #{Inspec::Dist::PRODUCT_NAME} version \"\\\\\\n+        raise \"This profile requires the inspec-core gem version \"\\\\', 'path': 'lib/inspec/runner.rb', 'position': 13, 'original_position': 13, 'commit_id': '68673cc84997ee206b4a633310d291481a39f189', 'original_commit_id': '68673cc84997ee206b4a633310d291481a39f189', 'user': {'login': 'bobchaos', 'id': 5667064, 'node_id': 'MDQ6VXNlcjU2NjcwNjQ=', 'avatar_url': 'https://avatars0.githubusercontent.com/u/5667064?v=4', 'gravatar_id': '', 'url': 'https://api.github.com/users/bobchaos', 'html_url': 'https://github.com/bobchaos', 'followers_url': 'https://api.github.com/users/bobchaos/followers', 'following_url': 'https://api.github.com/users/bobchaos/following{/other_user}', 'gists_url': 'https://api.github.com/users/bobchaos/gists{/gist_id}', 'starred_url': 'https://api.github.com/users/bobchaos/starred{/owner}{/repo}', 'subscriptions_url': 'https://api.github.com/users/bobchaos/subscriptions', 'organizations_url': 'https://api.github.com/users/bobchaos/orgs', 'repos_url': 'https://api.github.com/users/bobchaos/repos', 'events_url': 'https://api.github.com/users/bobchaos/events{/privacy}', 'received_events_url': 'https://api.github.com/users/bobchaos/received_events', 'type': 'User', 'site_admin': False}, 'body': 'Lemme try to reformulate the problem: I use kitchen-terraform, which uses the Inspec lib under the hood. That line i\\'m changing is the _only_ direct reference to Chef Inspec in the library proper.\\r\\n\\r\\n Removing it means tools like kitchen-terraform are trademark compliant. Leaving it in puts a lot of the community in a really weird place; Do projects like Cinc need to redistribute kitchen-terraform to make it compliant? Or does the burden fall on the authors to publish and use new inspec-core gems? Should we have 2 versions of every such product, one with Inspec and one with a modified lib?\\r\\n\\r\\nAs an alternative to this PR, perhaps Chef Legal could issue a statement here or somewhere else official stating that this particular occurence of \"Chef Inspec\" is cool with them. Something I can reference when folks raise this particular issue.\\r\\n\\r\\nWhat\\'s your handle on Slack? We can pick this up over there this week sometime if this still doesn\\'t convey the perceived issue correctly.', 'created_at': '2020-04-26T13:41:28Z', 'updated_at': '2020-04-26T13:41:28Z', 'html_url': 'https://github.com/inspec/inspec/pull/4971#discussion_r415313643', 'pull_request_url': 'https://api.github.com/repos/inspec/inspec/pulls/4971', 'author_association': 'NONE', '_links': {'self': {'href': 'https://api.github.com/repos/inspec/inspec/pulls/comments/415313643'}, 'html': {'href': 'https://github.com/inspec/inspec/pull/4971#discussion_r415313643'}, 'pull_request': {'href': 'https://api.github.com/repos/inspec/inspec/pulls/4971'}}, 'start_line': None, 'original_start_line': None, 'start_side': None, 'line': 203, 'original_line': 203, 'side': 'RIGHT', 'in_reply_to_id': 413660914}, 'pull_request': {'url': 'https://api.github.com/repos/inspec/inspec/pulls/4971', 'id': 399988913, 'node_id': 'MDExOlB1bGxSZXF1ZXN0Mzk5OTg4OTEz', 'html_url': 'https://github.com/inspec/inspec/pull/4971', 'diff_url': 'https://github.com/inspec/inspec/pull/4971.diff', 'patch_url': 'https://github.com/inspec/inspec/pull/4971.patch', 'issue_url': 'https://api.github.com/repos/inspec/inspec/issues/4971', 'number': 4971, 'state': 'open', 'locked': False, 'title': 'Dist runner', 'user': {'login': 'bobchaos', 'id': 5667064, 'node_id': 'MDQ6VXNlcjU2NjcwNjQ=', 'avatar_url': 'https://avatars0.githubusercontent.com/u/5667064?v=4', 'gravatar_id': '', 'url': 'https://api.github.com/users/bobchaos', 'html_url': 'https://github.com/bobchaos', 'followers_url': 'https://api.github.com/users/bobchaos/followers', 'following_url': 'https://api.github.com/users/bobchaos/following{/other_user}', 'gists_url': 'https://api.github.com/users/bobchaos/gists{/gist_id}', 'starred_url': 'https://api.github.com/users/bobchaos/starred{/owner}{/repo}', 'subscriptions_url': 'https://api.github.com/users/bobchaos/subscriptions', 'organizations_url': 'https://api.github.com/users/bobchaos/orgs', 'repos_url': 'https://api.github.com/users/bobchaos/repos', 'events_url': 'https://api.github.com/users/bobchaos/events{/privacy}', 'received_events_url': 'https://api.github.com/users/bobchaos/received_events', 'type': 'User', 'site_admin': False}, 'body': \"<!--- Provide a short summary of your changes in the Title above -->\\r\\n\\r\\n## Description\\r\\nThis switches from dist constants to use generic terms in runner logs to keep the core gem distro-agnostic.\\r\\n\\r\\nIt also adds (in a separate commit) 3rd party distro support to the install_context helpers\\r\\n\\r\\n## Related Issue\\r\\nrelated issue from cinc: https://gitlab.com/cinc-project/distribution/auditor/-/issues/5\\r\\nrelated issue from inspec core: https://github.com/inspec/inspec/issues/3637\\r\\nrelated issue from inspec AWS https://github.com/inspec/inspec-aws/issues/166\\r\\n\\r\\n## Types of changes\\r\\n<!--- What types of changes does your code introduce? Put an `x` in all the boxes that apply: -->\\r\\n- [X] Bug fix (non-breaking change which fixes an issue) I guess?\\r\\n- [ ] New content (non-breaking change)\\r\\n- [ ] Breaking change (a content change which would break existing functionality or processes)\\r\\n\\r\\n## Checklist:\\r\\n<!--- Go over all the following points, and put an `x` in all the boxes that apply. -->\\r\\n<!--- If you're unsure about any of these, don't hesitate to ask. We're here to help! -->\\r\\n- [X] I have read the **CONTRIBUTING** document.\\r\\n\", 'created_at': '2020-04-07T01:36:12Z', 'updated_at': '2020-04-26T13:41:28Z', 'closed_at': None, 'merged_at': None, 'merge_commit_sha': 'ca57d7fef2ace1d472abd6054b6ea61757bcc490', 'assignee': None, 'assignees': [], 'requested_reviewers': [], 'requested_teams': [], 'labels': [], 'milestone': None, 'draft': False, 'commits_url': 'https://api.github.com/repos/inspec/inspec/pulls/4971/commits', 'review_comments_url': 'https://api.github.com/repos/inspec/inspec/pulls/4971/comments', 'review_comment_url': 'https://api.github.com/repos/inspec/inspec/pulls/comments{/number}', 'comments_url': 'https://api.github.com/repos/inspec/inspec/issues/4971/comments', 'statuses_url': 'https://api.github.com/repos/inspec/inspec/statuses/68673cc84997ee206b4a633310d291481a39f189', 'head': {'label': 'cinc-project:dist_runner', 'ref': 'dist_runner', 'sha': '68673cc84997ee206b4a633310d291481a39f189', 'user': {'login': 'cinc-project', 'id': 49408247, 'node_id': 'MDEyOk9yZ2FuaXphdGlvbjQ5NDA4MjQ3', 'avatar_url': 'https://avatars2.githubusercontent.com/u/49408247?v=4', 'gravatar_id': '', 'url': 'https://api.github.com/users/cinc-project', 'html_url': 'https://github.com/cinc-project', 'followers_url': 'https://api.github.com/users/cinc-project/followers', 'following_url': 'https://api.github.com/users/cinc-project/following{/other_user}', 'gists_url': 'https://api.github.com/users/cinc-project/gists{/gist_id}', 'starred_url': 'https://api.github.com/users/cinc-project/starred{/owner}{/repo}', 'subscriptions_url': 'https://api.github.com/users/cinc-project/subscriptions', 'organizations_url': 'https://api.github.com/users/cinc-project/orgs', 'repos_url': 'https://api.github.com/users/cinc-project/repos', 'events_url': 'https://api.github.com/users/cinc-project/events{/privacy}', 'received_events_url': 'https://api.github.com/users/cinc-project/received_events', 'type': 'Organization', 'site_admin': False}, 'repo': {'id': 181501471, 'node_id': 'MDEwOlJlcG9zaXRvcnkxODE1MDE0NzE=', 'name': 'inspec', 'full_name': 'cinc-project/inspec', 'private': False, 'owner': {'login': 'cinc-project', 'id': 49408247, 'node_id': 'MDEyOk9yZ2FuaXphdGlvbjQ5NDA4MjQ3', 'avatar_url': 'https://avatars2.githubusercontent.com/u/49408247?v=4', 'gravatar_id': '', 'url': 'https://api.github.com/users/cinc-project', 'html_url': 'https://github.com/cinc-project', 'followers_url': 'https://api.github.com/users/cinc-project/followers', 'following_url': 'https://api.github.com/users/cinc-project/following{/other_user}', 'gists_url': 'https://api.github.com/users/cinc-project/gists{/gist_id}', 'starred_url': 'https://api.github.com/users/cinc-project/starred{/owner}{/repo}', 'subscriptions_url': 'https://api.github.com/users/cinc-project/subscriptions', 'organizations_url': 'https://api.github.com/users/cinc-project/orgs', 'repos_url': 'https://api.github.com/users/cinc-project/repos', 'events_url': 'https://api.github.com/users/cinc-project/events{/privacy}', 'received_events_url': 'https://api.github.com/users/cinc-project/received_events', 'type': 'Organization', 'site_admin': False}, 'html_url': 'https://github.com/cinc-project/inspec', 'description': 'Cinc Gitlab mirror - InSpec: Auditing and Testing Framework', 'fork': True, 'url': 'https://api.github.com/repos/cinc-project/inspec', 'forks_url': 'https://api.github.com/repos/cinc-project/inspec/forks', 'keys_url': 'https://api.github.com/repos/cinc-project/inspec/keys{/key_id}', 'collaborators_url': 'https://api.github.com/repos/cinc-project/inspec/collaborators{/collaborator}', 'teams_url': 'https://api.github.com/repos/cinc-project/inspec/teams', 'hooks_url': 'https://api.github.com/repos/cinc-project/inspec/hooks', 'issue_events_url': 'https://api.github.com/repos/cinc-project/inspec/issues/events{/number}', 'events_url': 'https://api.github.com/repos/cinc-project/inspec/events', 'assignees_url': 'https://api.github.com/repos/cinc-project/inspec/assignees{/user}', 'branches_url': 'https://api.github.com/repos/cinc-project/inspec/branches{/branch}', 'tags_url': 'https://api.github.com/repos/cinc-project/inspec/tags', 'blobs_url': 'https://api.github.com/repos/cinc-project/inspec/git/blobs{/sha}', 'git_tags_url': 'https://api.github.com/repos/cinc-project/inspec/git/tags{/sha}', 'git_refs_url': 'https://api.github.com/repos/cinc-project/inspec/git/refs{/sha}', 'trees_url': 'https://api.github.com/repos/cinc-project/inspec/git/trees{/sha}', 'statuses_url': 'https://api.github.com/repos/cinc-project/inspec/statuses/{sha}', 'languages_url': 'https://api.github.com/repos/cinc-project/inspec/languages', 'stargazers_url': 'https://api.github.com/repos/cinc-project/inspec/stargazers', 'contributors_url': 'https://api.github.com/repos/cinc-project/inspec/contributors', 'subscribers_url': 'https://api.github.com/repos/cinc-project/inspec/subscribers', 'subscription_url': 'https://api.github.com/repos/cinc-project/inspec/subscription', 'commits_url': 'https://api.github.com/repos/cinc-project/inspec/commits{/sha}', 'git_commits_url': 'https://api.github.com/repos/cinc-project/inspec/git/commits{/sha}', 'comments_url': 'https://api.github.com/repos/cinc-project/inspec/comments{/number}', 'issue_comment_url': 'https://api.github.com/repos/cinc-project/inspec/issues/comments{/number}', 'contents_url': 'https://api.github.com/repos/cinc-project/inspec/contents/{+path}', 'compare_url': 'https://api.github.com/repos/cinc-project/inspec/compare/{base}...{head}', 'merges_url': 'https://api.github.com/repos/cinc-project/inspec/merges', 'archive_url': 'https://api.github.com/repos/cinc-project/inspec/{archive_format}{/ref}', 'downloads_url': 'https://api.github.com/repos/cinc-project/inspec/downloads', 'issues_url': 'https://api.github.com/repos/cinc-project/inspec/issues{/number}', 'pulls_url': 'https://api.github.com/repos/cinc-project/inspec/pulls{/number}', 'milestones_url': 'https://api.github.com/repos/cinc-project/inspec/milestones{/number}', 'notifications_url': 'https://api.github.com/repos/cinc-project/inspec/notifications{?since,all,participating}', 'labels_url': 'https://api.github.com/repos/cinc-project/inspec/labels{/name}', 'releases_url': 'https://api.github.com/repos/cinc-project/inspec/releases{/id}', 'deployments_url': 'https://api.github.com/repos/cinc-project/inspec/deployments', 'created_at': '2019-04-15T14:14:26Z', 'updated_at': '2020-04-23T17:13:05Z', 'pushed_at': '2020-04-23T17:18:05Z', 'git_url': 'git://github.com/cinc-project/inspec.git', 'ssh_url': 'git@github.com:cinc-project/inspec.git', 'clone_url': 'https://github.com/cinc-project/inspec.git', 'svn_url': 'https://github.com/cinc-project/inspec', 'homepage': 'https://gitlab.com/cinc-project/inspec', 'size': 21192, 'stargazers_count': 1, 'watchers_count': 1, 'language': 'Ruby', 'has_issues': False, 'has_projects': False, 'has_downloads': True, 'has_wiki': True, 'has_pages': False, 'forks_count': 0, 'mirror_url': None, 'archived': False, 'disabled': False, 'open_issues_count': 0, 'license': {'key': 'other', 'name': 'Other', 'spdx_id': 'NOASSERTION', 'url': None, 'node_id': 'MDc6TGljZW5zZTA='}, 'forks': 0, 'open_issues': 0, 'watchers': 1, 'default_branch': 'stable/cinc'}}, 'base': {'label': 'inspec:master', 'ref': 'master', 'sha': '6292462f14e825dd963c9faae1e0518dd84397cf', 'user': {'login': 'inspec', 'id': 39202509, 'node_id': 'MDEyOk9yZ2FuaXphdGlvbjM5MjAyNTA5', 'avatar_url': 'https://avatars3.githubusercontent.com/u/39202509?v=4', 'gravatar_id': '', 'url': 'https://api.github.com/users/inspec', 'html_url': 'https://github.com/inspec', 'followers_url': 'https://api.github.com/users/inspec/followers', 'following_url': 'https://api.github.com/users/inspec/following{/other_user}', 'gists_url': 'https://api.github.com/users/inspec/gists{/gist_id}', 'starred_url': 'https://api.github.com/users/inspec/starred{/owner}{/repo}', 'subscriptions_url': 'https://api.github.com/users/inspec/subscriptions', 'organizations_url': 'https://api.github.com/users/inspec/orgs', 'repos_url': 'https://api.github.com/users/inspec/repos', 'events_url': 'https://api.github.com/users/inspec/events{/privacy}', 'received_events_url': 'https://api.github.com/users/inspec/received_events', 'type': 'Organization', 'site_admin': False}, 'repo': {'id': 41571541, 'node_id': 'MDEwOlJlcG9zaXRvcnk0MTU3MTU0MQ==', 'name': 'inspec', 'full_name': 'inspec/inspec', 'private': False, 'owner': {'login': 'inspec', 'id': 39202509, 'node_id': 'MDEyOk9yZ2FuaXphdGlvbjM5MjAyNTA5', 'avatar_url': 'https://avatars3.githubusercontent.com/u/39202509?v=4', 'gravatar_id': '', 'url': 'https://api.github.com/users/inspec', 'html_url': 'https://github.com/inspec', 'followers_url': 'https://api.github.com/users/inspec/followers', 'following_url': 'https://api.github.com/users/inspec/following{/other_user}', 'gists_url': 'https://api.github.com/users/inspec/gists{/gist_id}', 'starred_url': 'https://api.github.com/users/inspec/starred{/owner}{/repo}', 'subscriptions_url': 'https://api.github.com/users/inspec/subscriptions', 'organizations_url': 'https://api.github.com/users/inspec/orgs', 'repos_url': 'https://api.github.com/users/inspec/repos', 'events_url': 'https://api.github.com/users/inspec/events{/privacy}', 'received_events_url': 'https://api.github.com/users/inspec/received_events', 'type': 'Organization', 'site_admin': False}, 'html_url': 'https://github.com/inspec/inspec', 'description': 'InSpec: Auditing and Testing Framework', 'fork': False, 'url': 'https://api.github.com/repos/inspec/inspec', 'forks_url': 'https://api.github.com/repos/inspec/inspec/forks', 'keys_url': 'https://api.github.com/repos/inspec/inspec/keys{/key_id}', 'collaborators_url': 'https://api.github.com/repos/inspec/inspec/collaborators{/collaborator}', 'teams_url': 'https://api.github.com/repos/inspec/inspec/teams', 'hooks_url': 'https://api.github.com/repos/inspec/inspec/hooks', 'issue_events_url': 'https://api.github.com/repos/inspec/inspec/issues/events{/number}', 'events_url': 'https://api.github.com/repos/inspec/inspec/events', 'assignees_url': 'https://api.github.com/repos/inspec/inspec/assignees{/user}', 'branches_url': 'https://api.github.com/repos/inspec/inspec/branches{/branch}', 'tags_url': 'https://api.github.com/repos/inspec/inspec/tags', 'blobs_url': 'https://api.github.com/repos/inspec/inspec/git/blobs{/sha}', 'git_tags_url': 'https://api.github.com/repos/inspec/inspec/git/tags{/sha}', 'git_refs_url': 'https://api.github.com/repos/inspec/inspec/git/refs{/sha}', 'trees_url': 'https://api.github.com/repos/inspec/inspec/git/trees{/sha}', 'statuses_url': 'https://api.github.com/repos/inspec/inspec/statuses/{sha}', 'languages_url': 'https://api.github.com/repos/inspec/inspec/languages', 'stargazers_url': 'https://api.github.com/repos/inspec/inspec/stargazers', 'contributors_url': 'https://api.github.com/repos/inspec/inspec/contributors', 'subscribers_url': 'https://api.github.com/repos/inspec/inspec/subscribers', 'subscription_url': 'https://api.github.com/repos/inspec/inspec/subscription', 'commits_url': 'https://api.github.com/repos/inspec/inspec/commits{/sha}', 'git_commits_url': 'https://api.github.com/repos/inspec/inspec/git/commits{/sha}', 'comments_url': 'https://api.github.com/repos/inspec/inspec/comments{/number}', 'issue_comment_url': 'https://api.github.com/repos/inspec/inspec/issues/comments{/number}', 'contents_url': 'https://api.github.com/repos/inspec/inspec/contents/{+path}', 'compare_url': 'https://api.github.com/repos/inspec/inspec/compare/{base}...{head}', 'merges_url': 'https://api.github.com/repos/inspec/inspec/merges', 'archive_url': 'https://api.github.com/repos/inspec/inspec/{archive_format}{/ref}', 'downloads_url': 'https://api.github.com/repos/inspec/inspec/downloads', 'issues_url': 'https://api.github.com/repos/inspec/inspec/issues{/number}', 'pulls_url': 'https://api.github.com/repos/inspec/inspec/pulls{/number}', 'milestones_url': 'https://api.github.com/repos/inspec/inspec/milestones{/number}', 'notifications_url': 'https://api.github.com/repos/inspec/inspec/notifications{?since,all,participating}', 'labels_url': 'https://api.github.com/repos/inspec/inspec/labels{/name}', 'releases_url': 'https://api.github.com/repos/inspec/inspec/releases{/id}', 'deployments_url': 'https://api.github.com/repos/inspec/inspec/deployments', 'created_at': '2015-08-28T22:16:01Z', 'updated_at': '2020-04-24T23:27:12Z', 'pushed_at': '2020-04-24T20:47:29Z', 'git_url': 'git://github.com/inspec/inspec.git', 'ssh_url': 'git@github.com:inspec/inspec.git', 'clone_url': 'https://github.com/inspec/inspec.git', 'svn_url': 'https://github.com/inspec/inspec', 'homepage': 'http://inspec.io', 'size': 21133, 'stargazers_count': 2051, 'watchers_count': 2051, 'language': 'Ruby', 'has_issues': True, 'has_projects': True, 'has_downloads': True, 'has_wiki': True, 'has_pages': True, 'forks_count': 574, 'mirror_url': None, 'archived': False, 'disabled': False, 'open_issues_count': 499, 'license': {'key': 'other', 'name': 'Other', 'spdx_id': 'NOASSERTION', 'url': None, 'node_id': 'MDc6TGljZW5zZTA='}, 'forks': 574, 'open_issues': 499, 'watchers': 2051, 'default_branch': 'master'}}, '_links': {'self': {'href': 'https://api.github.com/repos/inspec/inspec/pulls/4971'}, 'html': {'href': 'https://github.com/inspec/inspec/pull/4971'}, 'issue': {'href': 'https://api.github.com/repos/inspec/inspec/issues/4971'}, 'comments': {'href': 'https://api.github.com/repos/inspec/inspec/issues/4971/comments'}, 'review_comments': {'href': 'https://api.github.com/repos/inspec/inspec/pulls/4971/comments'}, 'review_comment': {'href': 'https://api.github.com/repos/inspec/inspec/pulls/comments{/number}'}, 'commits': {'href': 'https://api.github.com/repos/inspec/inspec/pulls/4971/commits'}, 'statuses': {'href': 'https://api.github.com/repos/inspec/inspec/statuses/68673cc84997ee206b4a633310d291481a39f189'}}, 'author_association': 'NONE'}}, 'public': True, 'created_at': '2020-04-26T13:41:28Z', 'org': {'id': 39202509, 'login': 'inspec', 'gravatar_id': '', 'url': 'https://api.github.com/orgs/inspec', 'avatar_url': 'https://avatars.githubusercontent.com/u/39202509?'}}, {'id': '12160514975', 'type': 'PushEvent', 'actor': {'id': 55687513, 'login': 'BolluHimana', 'display_login': 'BolluHimana', 'gravatar_id': '', 'url': 'https://api.github.com/users/BolluHimana', 'avatar_url': 'https://avatars.githubusercontent.com/u/55687513?'}, 'repo': {'id': 253500497, 'name': 'CH-Shireesha/WP', 'url': 'https://api.github.com/repos/CH-Shireesha/WP'}, 'payload': {'push_id': 4977539842, 'size': 1, 'distinct_size': 1, 'ref': 'refs/heads/Review', 'head': 'b66d7137d2bf282d5c10507944558cd454d7e0b4', 'before': 'f871abde8e6c8245f4813a8f7fa503687c51255e', 'commits': [{'sha': 'b66d7137d2bf282d5c10507944558cd454d7e0b4', 'author': {'email': 'bolluhimana@msitprogram.net', 'name': 'BolluHimana'}, 'message': 'POST done!!', 'distinct': True, 'url': 'https://api.github.com/repos/CH-Shireesha/WP/commits/b66d7137d2bf282d5c10507944558cd454d7e0b4'}]}, 'public': True, 'created_at': '2020-04-26T13:41:28Z'}, {'id': '12160514970', 'type': 'PushEvent', 'actor': {'id': 64166026, 'login': 'helen-velkovskyl-rs', 'display_login': 'helen-velkovskyl-rs', 'gravatar_id': '', 'url': 'https://api.github.com/users/helen-velkovskyl-rs', 'avatar_url': 'https://avatars.githubusercontent.com/u/64166026?'}, 'repo': {'id': 258009583, 'name': 'bird-po/imandriva', 'url': 'https://api.github.com/repos/bird-po/imandriva'}, 'payload': {'push_id': 4977539837, 'size': 1, 'distinct_size': 1, 'ref': 'refs/heads/master', 'head': '9ed3f4182112e6d8a2b330b921f25d3117f0fe1b', 'before': '4348e4a4cb445b042c933b353106016a5377e248', 'commits': [{'sha': '9ed3f4182112e6d8a2b330b921f25d3117f0fe1b', 'author': {'email': 'helen.velkovskyl.rs@autorambler.ru', 'name': 'Helen Velkovsky'}, 'message': '24 Fast fix', 'distinct': True, 'url': 'https://api.github.com/repos/bird-po/imandriva/commits/9ed3f4182112e6d8a2b330b921f25d3117f0fe1b'}]}, 'public': True, 'created_at': '2020-04-26T13:41:28Z', 'org': {'id': 64166305, 'login': 'bird-po', 'gravatar_id': '', 'url': 'https://api.github.com/orgs/bird-po', 'avatar_url': 'https://avatars.githubusercontent.com/u/64166305?'}}, {'id': '12160514971', 'type': 'MemberEvent', 'actor': {'id': 47890758, 'login': 'Sanskriti-Thakur', 'display_login': 'Sanskriti-Thakur', 'gravatar_id': '', 'url': 'https://api.github.com/users/Sanskriti-Thakur', 'avatar_url': 'https://avatars.githubusercontent.com/u/47890758?'}, 'repo': {'id': 258445944, 'name': 'Sanskriti-Thakur/Quora_Clone', 'url': 'https://api.github.com/repos/Sanskriti-Thakur/Quora_Clone'}, 'payload': {'member': {'login': 'technofreak5360', 'id': 54943431, 'node_id': 'MDQ6VXNlcjU0OTQzNDMx', 'avatar_url': 'https://avatars2.githubusercontent.com/u/54943431?v=4', 'gravatar_id': '', 'url': 'https://api.github.com/users/technofreak5360', 'html_url': 'https://github.com/technofreak5360', 'followers_url': 'https://api.github.com/users/technofreak5360/followers', 'following_url': 'https://api.github.com/users/technofreak5360/following{/other_user}', 'gists_url': 'https://api.github.com/users/technofreak5360/gists{/gist_id}', 'starred_url': 'https://api.github.com/users/technofreak5360/starred{/owner}{/repo}', 'subscriptions_url': 'https://api.github.com/users/technofreak5360/subscriptions', 'organizations_url': 'https://api.github.com/users/technofreak5360/orgs', 'repos_url': 'https://api.github.com/users/technofreak5360/repos', 'events_url': 'https://api.github.com/users/technofreak5360/events{/privacy}', 'received_events_url': 'https://api.github.com/users/technofreak5360/received_events', 'type': 'User', 'site_admin': False}, 'action': 'added'}, 'public': True, 'created_at': '2020-04-26T13:41:28Z'}, {'id': '12160514969', 'type': 'PushEvent', 'actor': {'id': 15953242, 'login': 'udaypydi', 'display_login': 'udaypydi', 'gravatar_id': '', 'url': 'https://api.github.com/users/udaypydi', 'avatar_url': 'https://avatars.githubusercontent.com/u/15953242?'}, 'repo': {'id': 258533276, 'name': 'udaypydi/tail-ui', 'url': 'https://api.github.com/repos/udaypydi/tail-ui'}, 'payload': {'push_id': 4977539836, 'size': 1, 'distinct_size': 1, 'ref': 'refs/heads/feat/input-docs', 'head': 'adac78391355d88b2f18468d9295109f01db6080', 'before': 'b6d94639ed9a56e5aebef6e2280e8680ae71bba7', 'commits': [{'sha': 'adac78391355d88b2f18468d9295109f01db6080', 'author': {'email': 'udaypydi333@gmail.com', 'name': 'udaypydi'}, 'message': 'fix(props): add onchange props', 'distinct': True, 'url': 'https://api.github.com/repos/udaypydi/tail-ui/commits/adac78391355d88b2f18468d9295109f01db6080'}]}, 'public': True, 'created_at': '2020-04-26T13:41:28Z'}, {'id': '12160514963', 'type': 'PushEvent', 'actor': {'id': 59679752, 'login': 'shangwoa', 'display_login': 'shangwoa', 'gravatar_id': '', 'url': 'https://api.github.com/users/shangwoa', 'avatar_url': 'https://avatars.githubusercontent.com/u/59679752?'}, 'repo': {'id': 259024659, 'name': 'shangwoa/ab5071', 'url': 'https://api.github.com/repos/shangwoa/ab5071'}, 'payload': {'push_id': 4977539831, 'size': 1, 'distinct_size': 1, 'ref': 'refs/heads/master', 'head': 'e0799278e4f755363c1c9d65a2c8a2091798f725', 'before': '0271ccb1f27a8408992ec3a8ed19a7a70243b2be', 'commits': [{'sha': 'e0799278e4f755363c1c9d65a2c8a2091798f725', 'author': {'email': 'shangwoa@gmail.com', 'name': 'shangwoa'}, 'message': 'MYXy9LMA', 'distinct': True, 'url': 'https://api.github.com/repos/shangwoa/ab5071/commits/e0799278e4f755363c1c9d65a2c8a2091798f725'}]}, 'public': True, 'created_at': '2020-04-26T13:41:28Z'}, {'id': '12160514965', 'type': 'CreateEvent', 'actor': {'id': 25764558, 'login': 'quvven', 'display_login': 'quvven', 'gravatar_id': '', 'url': 'https://api.github.com/users/quvven', 'avatar_url': 'https://avatars.githubusercontent.com/u/25764558?'}, 'repo': {'id': 259040403, 'name': 'quvven/springboot-course', 'url': 'https://api.github.com/repos/quvven/springboot-course'}, 'payload': {'ref': None, 'ref_type': 'repository', 'master_branch': 'master', 'description': None, 'pusher_type': 'user'}, 'public': True, 'created_at': '2020-04-26T13:41:28Z'}, {'id': '12160514962', 'type': 'WatchEvent', 'actor': {'id': 690612, 'login': 'ekremkaraca', 'display_login': 'ekremkaraca', 'gravatar_id': '', 'url': 'https://api.github.com/users/ekremkaraca', 'avatar_url': 'https://avatars.githubusercontent.com/u/690612?'}, 'repo': {'id': 37427, 'name': 'wvanbergen/scoped_search', 'url': 'https://api.github.com/repos/wvanbergen/scoped_search'}, 'payload': {'action': 'started'}, 'public': True, 'created_at': '2020-04-26T13:41:28Z'}, {'id': '12160514961', 'type': 'WatchEvent', 'actor': {'id': 636498, 'login': 'guillaumededrie', 'display_login': 'guillaumededrie', 'gravatar_id': '', 'url': 'https://api.github.com/users/guillaumededrie', 'avatar_url': 'https://avatars.githubusercontent.com/u/636498?'}, 'repo': {'id': 154027884, 'name': 'samber/awesome-prometheus-alerts', 'url': 'https://api.github.com/repos/samber/awesome-prometheus-alerts'}, 'payload': {'action': 'started'}, 'public': True, 'created_at': '2020-04-26T13:41:28Z'}, {'id': '12160514958', 'type': 'PushEvent', 'actor': {'id': 8809560, 'login': 'nohupped', 'display_login': 'nohupped', 'gravatar_id': '', 'url': 'https://api.github.com/users/nohupped', 'avatar_url': 'https://avatars.githubusercontent.com/u/8809560?'}, 'repo': {'id': 51294358, 'name': 'nohupped/ADtoLDAP', 'url': 'https://api.github.com/repos/nohupped/ADtoLDAP'}, 'payload': {'push_id': 4977539830, 'size': 1, 'distinct_size': 1, 'ref': 'refs/heads/nohupped/gomod', 'head': '9dd3aaaf2a7514935cbb8fae73640af2b228e257', 'before': '06d990f994e150111f99b3b213cd0c3acdc7fd9c', 'commits': [{'sha': '9dd3aaaf2a7514935cbb8fae73640af2b228e257', 'author': {'email': 'nohupped@users.noreply.github.com', 'name': 'nohupped_arch'}, 'message': 'Updated Readme', 'distinct': True, 'url': 'https://api.github.com/repos/nohupped/ADtoLDAP/commits/9dd3aaaf2a7514935cbb8fae73640af2b228e257'}]}, 'public': True, 'created_at': '2020-04-26T13:41:28Z'}, {'id': '12160514959', 'type': 'DeleteEvent', 'actor': {'id': 158975, 'login': 'miii', 'display_login': 'miii', 'gravatar_id': '', 'url': 'https://api.github.com/users/miii', 'avatar_url': 'https://avatars.githubusercontent.com/u/158975?'}, 'repo': {'id': 247042808, 'name': 'miii/vue-lettering', 'url': 'https://api.github.com/repos/miii/vue-lettering'}, 'payload': {'ref': 'dependabot/npm_and_yarn/vue/cli-service-4.3.1', 'ref_type': 'branch', 'pusher_type': 'user'}, 'public': True, 'created_at': '2020-04-26T13:41:28Z'}, {'id': '12160514957', 'type': 'CreateEvent', 'actor': {'id': 64363427, 'login': 'torissi', 'display_login': 'torissi', 'gravatar_id': '', 'url': 'https://api.github.com/users/torissi', 'avatar_url': 'https://avatars.githubusercontent.com/u/64363427?'}, 'repo': {'id': 259040402, 'name': 'torissi/torissi.github.io', 'url': 'https://api.github.com/repos/torissi/torissi.github.io'}, 'payload': {'ref': None, 'ref_type': 'repository', 'master_branch': 'master', 'description': None, 'pusher_type': 'user'}, 'public': True, 'created_at': '2020-04-26T13:41:28Z'}, {'id': '12160514942', 'type': 'PushEvent', 'actor': {'id': 15653282, 'login': 'saikatharryc', 'display_login': 'saikatharryc', 'gravatar_id': '', 'url': 'https://api.github.com/users/saikatharryc', 'avatar_url': 'https://avatars.githubusercontent.com/u/15653282?'}, 'repo': {'id': 255873382, 'name': 'saikatharryc/muescheli', 'url': 'https://api.github.com/repos/saikatharryc/muescheli'}, 'payload': {'push_id': 4977539819, 'size': 1, 'distinct_size': 1, 'ref': 'refs/heads/master', 'head': 'd01fe4308ec53fd08dbab1abbf28ebb941955c3f', 'before': 'ec9cf4385d6b575c251fa6a99e2ed9be697a4441', 'commits': [{'sha': 'd01fe4308ec53fd08dbab1abbf28ebb941955c3f', 'author': {'email': 'saikatchakrabortty2@gmail.com', 'name': 'Saikat Chakrabortty'}, 'message': '[debug]', 'distinct': True, 'url': 'https://api.github.com/repos/saikatharryc/muescheli/commits/d01fe4308ec53fd08dbab1abbf28ebb941955c3f'}]}, 'public': True, 'created_at': '2020-04-26T13:41:28Z'}, {'id': '12160514951', 'type': 'PushEvent', 'actor': {'id': 59679752, 'login': 'shangwoa', 'display_login': 'shangwoa', 'gravatar_id': '', 'url': 'https://api.github.com/users/shangwoa', 'avatar_url': 'https://avatars.githubusercontent.com/u/59679752?'}, 'repo': {'id': 259008337, 'name': 'shangwoa/ab5068', 'url': 'https://api.github.com/repos/shangwoa/ab5068'}, 'payload': {'push_id': 4977539826, 'size': 1, 'distinct_size': 1, 'ref': 'refs/heads/master', 'head': '83b12a3addbef687658651da2014ae36a1de4d4d', 'before': '86287d648f4d4bfd306aa5fcb32e9548cc3e5278', 'commits': [{'sha': '83b12a3addbef687658651da2014ae36a1de4d4d', 'author': {'email': 'shangwoa@gmail.com', 'name': 'shangwoa'}, 'message': 'ZYmlrxgn', 'distinct': True, 'url': 'https://api.github.com/repos/shangwoa/ab5068/commits/83b12a3addbef687658651da2014ae36a1de4d4d'}]}, 'public': True, 'created_at': '2020-04-26T13:41:28Z'}, {'id': '12160514955', 'type': 'WatchEvent', 'actor': {'id': 63270480, 'login': 'mariaveret', 'display_login': 'mariaveret', 'gravatar_id': '', 'url': 'https://api.github.com/users/mariaveret', 'avatar_url': 'https://avatars.githubusercontent.com/u/63270480?'}, 'repo': {'id': 258863794, 'name': 'Suranchiyev/java-sdet-2020', 'url': 'https://api.github.com/repos/Suranchiyev/java-sdet-2020'}, 'payload': {'action': 'started'}, 'public': True, 'created_at': '2020-04-26T13:41:28Z'}, {'id': '12160514950', 'type': 'PushEvent', 'actor': {'id': 60781479, 'login': '00nuushi', 'display_login': '00nuushi', 'gravatar_id': '', 'url': 'https://api.github.com/users/00nuushi', 'avatar_url': 'https://avatars.githubusercontent.com/u/60781479?'}, 'repo': {'id': 239432940, 'name': '00nuushi/AtCoder', 'url': 'https://api.github.com/repos/00nuushi/AtCoder'}, 'payload': {'push_id': 4977539825, 'size': 1, 'distinct_size': 1, 'ref': 'refs/heads/master', 'head': '1c14ce4a24a57a88d5ae880f5b539bb4737074a2', 'before': '5eb4fb64df682a18a47dfc65ffb28e3c97cbea63', 'commits': [{'sha': '1c14ce4a24a57a88d5ae880f5b539bb4737074a2', 'author': {'email': 'ntame@DESKTOP-GK4CFNS.localdomain', 'name': '00nuushi'}, 'message': 'add ABC164: A-D.cpp and E(tmp)', 'distinct': True, 'url': 'https://api.github.com/repos/00nuushi/AtCoder/commits/1c14ce4a24a57a88d5ae880f5b539bb4737074a2'}]}, 'public': True, 'created_at': '2020-04-26T13:41:28Z'}, {'id': '12160514952', 'type': 'IssueCommentEvent', 'actor': {'id': 44138615, 'login': 'alcanunsal', 'display_login': 'alcanunsal', 'gravatar_id': '', 'url': 'https://api.github.com/users/alcanunsal', 'avatar_url': 'https://avatars.githubusercontent.com/u/44138615?'}, 'repo': {'id': 239610807, 'name': 'bounswe/bounswe2020group9', 'url': 'https://api.github.com/repos/bounswe/bounswe2020group9'}, 'payload': {'action': 'created', 'issue': {'url': 'https://api.github.com/repos/bounswe/bounswe2020group9/issues/36', 'repository_url': 'https://api.github.com/repos/bounswe/bounswe2020group9', 'labels_url': 'https://api.github.com/repos/bounswe/bounswe2020group9/issues/36/labels{/name}', 'comments_url': 'https://api.github.com/repos/bounswe/bounswe2020group9/issues/36/comments', 'events_url': 'https://api.github.com/repos/bounswe/bounswe2020group9/issues/36/events', 'html_url': 'https://github.com/bounswe/bounswe2020group9/issues/36', 'id': 605578010, 'node_id': 'MDU6SXNzdWU2MDU1NzgwMTA=', 'number': 36, 'title': 'Update Sequence Diagram', 'user': {'login': 'sadiuysal', 'id': 23438455, 'node_id': 'MDQ6VXNlcjIzNDM4NDU1', 'avatar_url': 'https://avatars0.githubusercontent.com/u/23438455?v=4', 'gravatar_id': '', 'url': 'https://api.github.com/users/sadiuysal', 'html_url': 'https://github.com/sadiuysal', 'followers_url': 'https://api.github.com/users/sadiuysal/followers', 'following_url': 'https://api.github.com/users/sadiuysal/following{/other_user}', 'gists_url': 'https://api.github.com/users/sadiuysal/gists{/gist_id}', 'starred_url': 'https://api.github.com/users/sadiuysal/starred{/owner}{/repo}', 'subscriptions_url': 'https://api.github.com/users/sadiuysal/subscriptions', 'organizations_url': 'https://api.github.com/users/sadiuysal/orgs', 'repos_url': 'https://api.github.com/users/sadiuysal/repos', 'events_url': 'https://api.github.com/users/sadiuysal/events{/privacy}', 'received_events_url': 'https://api.github.com/users/sadiuysal/received_events', 'type': 'User', 'site_admin': False}, 'labels': [{'id': 1849258965, 'node_id': 'MDU6TGFiZWwxODQ5MjU4OTY1', 'url': 'https://api.github.com/repos/bounswe/bounswe2020group9/labels/Estimation%20-%20Medium', 'name': 'Estimation - Medium', 'color': '87ceeb', 'default': False, 'description': 'Requires moderate effort'}, {'id': 1849190631, 'node_id': 'MDU6TGFiZWwxODQ5MTkwNjMx', 'url': 'https://api.github.com/repos/bounswe/bounswe2020group9/labels/Priority%20-%20High', 'name': 'Priority - High', 'color': 'FF6347', 'default': False, 'description': 'Requires high attention, 1-2 days'}], 'state': 'open', 'locked': False, 'assignee': {'login': 'neutralsecond', 'id': 19377435, 'node_id': 'MDQ6VXNlcjE5Mzc3NDM1', 'avatar_url': 'https://avatars0.githubusercontent.com/u/19377435?v=4', 'gravatar_id': '', 'url': 'https://api.github.com/users/neutralsecond', 'html_url': 'https://github.com/neutralsecond', 'followers_url': 'https://api.github.com/users/neutralsecond/followers', 'following_url': 'https://api.github.com/users/neutralsecond/following{/other_user}', 'gists_url': 'https://api.github.com/users/neutralsecond/gists{/gist_id}', 'starred_url': 'https://api.github.com/users/neutralsecond/starred{/owner}{/repo}', 'subscriptions_url': 'https://api.github.com/users/neutralsecond/subscriptions', 'organizations_url': 'https://api.github.com/users/neutralsecond/orgs', 'repos_url': 'https://api.github.com/users/neutralsecond/repos', 'events_url': 'https://api.github.com/users/neutralsecond/events{/privacy}', 'received_events_url': 'https://api.github.com/users/neutralsecond/received_events', 'type': 'User', 'site_admin': False}, 'assignees': [{'login': 'neutralsecond', 'id': 19377435, 'node_id': 'MDQ6VXNlcjE5Mzc3NDM1', 'avatar_url': 'https://avatars0.githubusercontent.com/u/19377435?v=4', 'gravatar_id': '', 'url': 'https://api.github.com/users/neutralsecond', 'html_url': 'https://github.com/neutralsecond', 'followers_url': 'https://api.github.com/users/neutralsecond/followers', 'following_url': 'https://api.github.com/users/neutralsecond/following{/other_user}', 'gists_url': 'https://api.github.com/users/neutralsecond/gists{/gist_id}', 'starred_url': 'https://api.github.com/users/neutralsecond/starred{/owner}{/repo}', 'subscriptions_url': 'https://api.github.com/users/neutralsecond/subscriptions', 'organizations_url': 'https://api.github.com/users/neutralsecond/orgs', 'repos_url': 'https://api.github.com/users/neutralsecond/repos', 'events_url': 'https://api.github.com/users/neutralsecond/events{/privacy}', 'received_events_url': 'https://api.github.com/users/neutralsecond/received_events', 'type': 'User', 'site_admin': False}, {'login': 'sadiuysal', 'id': 23438455, 'node_id': 'MDQ6VXNlcjIzNDM4NDU1', 'avatar_url': 'https://avatars0.githubusercontent.com/u/23438455?v=4', 'gravatar_id': '', 'url': 'https://api.github.com/users/sadiuysal', 'html_url': 'https://github.com/sadiuysal', 'followers_url': 'https://api.github.com/users/sadiuysal/followers', 'following_url': 'https://api.github.com/users/sadiuysal/following{/other_user}', 'gists_url': 'https://api.github.com/users/sadiuysal/gists{/gist_id}', 'starred_url': 'https://api.github.com/users/sadiuysal/starred{/owner}{/repo}', 'subscriptions_url': 'https://api.github.com/users/sadiuysal/subscriptions', 'organizations_url': 'https://api.github.com/users/sadiuysal/orgs', 'repos_url': 'https://api.github.com/users/sadiuysal/repos', 'events_url': 'https://api.github.com/users/sadiuysal/events{/privacy}', 'received_events_url': 'https://api.github.com/users/sadiuysal/received_events', 'type': 'User', 'site_admin': False}, {'login': 'alcanunsal', 'id': 44138615, 'node_id': 'MDQ6VXNlcjQ0MTM4NjE1', 'avatar_url': 'https://avatars0.githubusercontent.com/u/44138615?v=4', 'gravatar_id': '', 'url': 'https://api.github.com/users/alcanunsal', 'html_url': 'https://github.com/alcanunsal', 'followers_url': 'https://api.github.com/users/alcanunsal/followers', 'following_url': 'https://api.github.com/users/alcanunsal/following{/other_user}', 'gists_url': 'https://api.github.com/users/alcanunsal/gists{/gist_id}', 'starred_url': 'https://api.github.com/users/alcanunsal/starred{/owner}{/repo}', 'subscriptions_url': 'https://api.github.com/users/alcanunsal/subscriptions', 'organizations_url': 'https://api.github.com/users/alcanunsal/orgs', 'repos_url': 'https://api.github.com/users/alcanunsal/repos', 'events_url': 'https://api.github.com/users/alcanunsal/events{/privacy}', 'received_events_url': 'https://api.github.com/users/alcanunsal/received_events', 'type': 'User', 'site_admin': False}], 'milestone': None, 'comments': 1, 'created_at': '2020-04-23T14:18:31Z', 'updated_at': '2020-04-26T13:41:28Z', 'closed_at': None, 'author_association': 'COLLABORATOR', 'body': 'Please update the necessary parts of sequence diagrams.'}, 'comment': {'url': 'https://api.github.com/repos/bounswe/bounswe2020group9/issues/comments/619551478', 'html_url': 'https://github.com/bounswe/bounswe2020group9/issues/36#issuecomment-619551478', 'issue_url': 'https://api.github.com/repos/bounswe/bounswe2020group9/issues/36', 'id': 619551478, 'node_id': 'MDEyOklzc3VlQ29tbWVudDYxOTU1MTQ3OA==', 'user': {'login': 'alcanunsal', 'id': 44138615, 'node_id': 'MDQ6VXNlcjQ0MTM4NjE1', 'avatar_url': 'https://avatars0.githubusercontent.com/u/44138615?v=4', 'gravatar_id': '', 'url': 'https://api.github.com/users/alcanunsal', 'html_url': 'https://github.com/alcanunsal', 'followers_url': 'https://api.github.com/users/alcanunsal/followers', 'following_url': 'https://api.github.com/users/alcanunsal/following{/other_user}', 'gists_url': 'https://api.github.com/users/alcanunsal/gists{/gist_id}', 'starred_url': 'https://api.github.com/users/alcanunsal/starred{/owner}{/repo}', 'subscriptions_url': 'https://api.github.com/users/alcanunsal/subscriptions', 'organizations_url': 'https://api.github.com/users/alcanunsal/orgs', 'repos_url': 'https://api.github.com/users/alcanunsal/repos', 'events_url': 'https://api.github.com/users/alcanunsal/events{/privacy}', 'received_events_url': 'https://api.github.com/users/alcanunsal/received_events', 'type': 'User', 'site_admin': False}, 'created_at': '2020-04-26T13:41:28Z', 'updated_at': '2020-04-26T13:41:28Z', 'author_association': 'COLLABORATOR', 'body': 'Updated \"Search\" sequence diagram.'}}, 'public': True, 'created_at': '2020-04-26T13:41:28Z', 'org': {'id': 12229719, 'login': 'bounswe', 'gravatar_id': '', 'url': 'https://api.github.com/orgs/bounswe', 'avatar_url': 'https://avatars.githubusercontent.com/u/12229719?'}}, {'id': '12160514947', 'type': 'PushEvent', 'actor': {'id': 47003650, 'login': 'jchojna', 'display_login': 'jchojna', 'gravatar_id': '', 'url': 'https://api.github.com/users/jchojna', 'avatar_url': 'https://avatars.githubusercontent.com/u/47003650?'}, 'repo': {'id': 257650682, 'name': 'jchojna/dashboard', 'url': 'https://api.github.com/repos/jchojna/dashboard'}, 'payload': {'push_id': 4977539824, 'size': 1, 'distinct_size': 1, 'ref': 'refs/heads/features', 'head': '2dc029c349e0a2df55972176d8a4f8ca5dbae4e1', 'before': 'e6cd7250af07fd1260f51078f4d9cfcb8d7ccd15', 'commits': [{'sha': '2dc029c349e0a2df55972176d8a4f8ca5dbae4e1', 'author': {'email': 'jakub.chojna@gmail.com', 'name': 'jchojna'}, 'message': 'refactor: map all Dropdown components in analytics section', 'distinct': True, 'url': 'https://api.github.com/repos/jchojna/dashboard/commits/2dc029c349e0a2df55972176d8a4f8ca5dbae4e1'}]}, 'public': True, 'created_at': '2020-04-26T13:41:28Z'}, {'id': '12160514949', 'type': 'CreateEvent', 'actor': {'id': 64330657, 'login': 'ChristianEdwards', 'display_login': 'ChristianEdwards', 'gravatar_id': '', 'url': 'https://api.github.com/users/ChristianEdwards', 'avatar_url': 'https://avatars.githubusercontent.com/u/64330657?'}, 'repo': {'id': 259040399, 'name': 'ChristianEdwards/Python-Blockchain', 'url': 'https://api.github.com/repos/ChristianEdwards/Python-Blockchain'}, 'payload': {'ref': 'master', 'ref_type': 'branch', 'master_branch': 'master', 'description': 'Used Python to learn how blockchains work', 'pusher_type': 'user'}, 'public': True, 'created_at': '2020-04-26T13:41:28Z'}, {'id': '12160514946', 'type': 'IssueCommentEvent', 'actor': {'id': 194764, 'login': 'haampie', 'display_login': 'haampie', 'gravatar_id': '', 'url': 'https://api.github.com/users/haampie', 'avatar_url': 'https://avatars.githubusercontent.com/u/194764?'}, 'repo': {'id': 253045183, 'name': 'haampie/libtree', 'url': 'https://api.github.com/repos/haampie/libtree'}, 'payload': {'action': 'created', 'issue': {'url': 'https://api.github.com/repos/haampie/libtree/issues/22', 'repository_url': 'https://api.github.com/repos/haampie/libtree', 'labels_url': 'https://api.github.com/repos/haampie/libtree/issues/22/labels{/name}', 'comments_url': 'https://api.github.com/repos/haampie/libtree/issues/22/comments', 'events_url': 'https://api.github.com/repos/haampie/libtree/issues/22/events', 'html_url': 'https://github.com/haampie/libtree/issues/22', 'id': 602414100, 'node_id': 'MDU6SXNzdWU2MDI0MTQxMDA=', 'number': 22, 'title': 'macOS support', 'user': {'login': 'haampie', 'id': 194764, 'node_id': 'MDQ6VXNlcjE5NDc2NA==', 'avatar_url': 'https://avatars3.githubusercontent.com/u/194764?v=4', 'gravatar_id': '', 'url': 'https://api.github.com/users/haampie', 'html_url': 'https://github.com/haampie', 'followers_url': 'https://api.github.com/users/haampie/followers', 'following_url': 'https://api.github.com/users/haampie/following{/other_user}', 'gists_url': 'https://api.github.com/users/haampie/gists{/gist_id}', 'starred_url': 'https://api.github.com/users/haampie/starred{/owner}{/repo}', 'subscriptions_url': 'https://api.github.com/users/haampie/subscriptions', 'organizations_url': 'https://api.github.com/users/haampie/orgs', 'repos_url': 'https://api.github.com/users/haampie/repos', 'events_url': 'https://api.github.com/users/haampie/events{/privacy}', 'received_events_url': 'https://api.github.com/users/haampie/received_events', 'type': 'User', 'site_admin': False}, 'labels': [], 'state': 'open', 'locked': False, 'assignee': None, 'assignees': [], 'milestone': None, 'comments': 1, 'created_at': '2020-04-18T08:58:04Z', 'updated_at': '2020-04-26T13:41:28Z', 'closed_at': None, 'author_association': 'OWNER', 'body': 'It would be nice to have the same tool on the mac for locating `dylibs`.'}, 'comment': {'url': 'https://api.github.com/repos/haampie/libtree/issues/comments/619551479', 'html_url': 'https://github.com/haampie/libtree/issues/22#issuecomment-619551479', 'issue_url': 'https://api.github.com/repos/haampie/libtree/issues/22', 'id': 619551479, 'node_id': 'MDEyOklzc3VlQ29tbWVudDYxOTU1MTQ3OQ==', 'user': {'login': 'haampie', 'id': 194764, 'node_id': 'MDQ6VXNlcjE5NDc2NA==', 'avatar_url': 'https://avatars3.githubusercontent.com/u/194764?v=4', 'gravatar_id': '', 'url': 'https://api.github.com/users/haampie', 'html_url': 'https://github.com/haampie', 'followers_url': 'https://api.github.com/users/haampie/followers', 'following_url': 'https://api.github.com/users/haampie/following{/other_user}', 'gists_url': 'https://api.github.com/users/haampie/gists{/gist_id}', 'starred_url': 'https://api.github.com/users/haampie/starred{/owner}{/repo}', 'subscriptions_url': 'https://api.github.com/users/haampie/subscriptions', 'organizations_url': 'https://api.github.com/users/haampie/orgs', 'repos_url': 'https://api.github.com/users/haampie/repos', 'events_url': 'https://api.github.com/users/haampie/events{/privacy}', 'received_events_url': 'https://api.github.com/users/haampie/received_events', 'type': 'User', 'site_admin': False}, 'created_at': '2020-04-26T13:41:28Z', 'updated_at': '2020-04-26T13:41:28Z', 'author_association': 'OWNER', 'body': \"Just some notes on getting started. macOS has imho a very awkard alternative to rpath and `$ORIGIN`. If you want to mimick that on the mac, it would go like this:\\r\\n\\r\\nSuppose your executable lives in `usr/bin/app` and your dylib in `usr/lib/my_lib.dylib`; first compile `my_lib.dylib` with an install name `@rpath/my_lib.dylib`. Then compile your executable and link against `my_lib.dylib` s.t. the install name is copied over as a load command in the mach-o file, then add an rpath in `app` to `@loader_path/../lib/` or `@executable_path/../lib`. \\r\\n\\r\\nWhen resolving dependencies of `app`, first substitute all occurrences of\\r\\n`@loader_path` and `@executable_path` in the list of rpaths and the list of to-be-loaded dylibs with the absolute path of `app`, then loop over the to-be-loaded dylibs, and whenever you see `@rpath`, try to substitute it with all possible rpaths.\\r\\n\\r\\nSo basically:\\r\\n\\r\\n1. read the dylib deps and rpaths of `app`: \\r\\n    `dylds = ['@rpath/my_lib.dylib']`\\r\\n    `rpaths = [@loader_path/../lib/']`\\r\\n2. substitute all occurrences of `@loader_path` and `@executable_path` with the path of `app`\\r\\n    `dylds = ['@rpath/my_lib.dylib']`\\r\\n    `rpaths = [/path/to/usr/bin/../lib/']`\\r\\n3. for every dyld, if the name starts with/contains `@rpath`, loop over all the `rpaths` and substitute, in this case leading to `dylds = ['/path/to/usr/bin/../lib/my_lib.dylib']`.\\r\\n\\r\\nSo it's awkward because both the executable _and_ the dependent dylib has to be configured to support rpath :|. In any case, it should be straightforward to implement this strategy.\\r\\n\\r\\n--\\r\\n\\r\\nAnother issue is fat mach-o files that support multiple architectures. Not sure how to handle them\"}}, 'public': True, 'created_at': '2020-04-26T13:41:28Z'}, {'id': '12160514940', 'type': 'PushEvent', 'actor': {'id': 7485333, 'login': 'gracesekwao', 'display_login': 'gracesekwao', 'gravatar_id': '', 'url': 'https://api.github.com/users/gracesekwao', 'avatar_url': 'https://avatars.githubusercontent.com/u/7485333?'}, 'repo': {'id': 242572498, 'name': 'gracesekwao/algorithms', 'url': 'https://api.github.com/repos/gracesekwao/algorithms'}, 'payload': {'push_id': 4977539817, 'size': 1, 'distinct_size': 1, 'ref': 'refs/heads/master', 'head': 'dd5f1efd82a25bc6ef6f7f20f1ffa8f997b4341d', 'before': '5dbc67830eed8ce0f162b32f7d23bf3e4b1a6a55', 'commits': [{'sha': 'dd5f1efd82a25bc6ef6f7f20f1ffa8f997b4341d', 'author': {'email': 'grace@nentgroup.com', 'name': 'Grace Sekwao'}, 'message': 'add rotating of array', 'distinct': True, 'url': 'https://api.github.com/repos/gracesekwao/algorithms/commits/dd5f1efd82a25bc6ef6f7f20f1ffa8f997b4341d'}]}, 'public': True, 'created_at': '2020-04-26T13:41:28Z'}, {'id': '12160514938', 'type': 'PushEvent', 'actor': {'id': 41898282, 'login': 'github-actions[bot]', 'display_login': 'github-actions', 'gravatar_id': '', 'url': 'https://api.github.com/users/github-actions[bot]', 'avatar_url': 'https://avatars.githubusercontent.com/u/41898282?'}, 'repo': {'id': 248960253, 'name': 'pywharf/pywharf-pkg-repo', 'url': 'https://api.github.com/repos/pywharf/pywharf-pkg-repo'}, 'payload': {'push_id': 4977539816, 'size': 1, 'distinct_size': 1, 'ref': 'refs/heads/gh-pages', 'head': '02d107ec53d6e13db325581aac0a2a182eba9513', 'before': '26a1274bc669208bb69770ee2136d5342d94a549', 'commits': [{'sha': '02d107ec53d6e13db325581aac0a2a182eba9513', 'author': {'email': 'github-actions@github.com', 'name': 'github-actions[bot]'}, 'message': 'Publish github pages.', 'distinct': True, 'url': 'https://api.github.com/repos/pywharf/pywharf-pkg-repo/commits/02d107ec53d6e13db325581aac0a2a182eba9513'}]}, 'public': True, 'created_at': '2020-04-26T13:41:28Z', 'org': {'id': 60605563, 'login': 'pywharf', 'gravatar_id': '', 'url': 'https://api.github.com/orgs/pywharf', 'avatar_url': 'https://avatars.githubusercontent.com/u/60605563?'}}, {'id': '12160514939', 'type': 'WatchEvent', 'actor': {'id': 46615522, 'login': 'avalon1337', 'display_login': 'avalon1337', 'gravatar_id': '', 'url': 'https://api.github.com/users/avalon1337', 'avatar_url': 'https://avatars.githubusercontent.com/u/46615522?'}, 'repo': {'id': 71815733, 'name': 'Zer0Mem0ry/RunPE', 'url': 'https://api.github.com/repos/Zer0Mem0ry/RunPE'}, 'payload': {'action': 'started'}, 'public': True, 'created_at': '2020-04-26T13:41:28Z'}, {'id': '12160514934', 'type': 'PushEvent', 'actor': {'id': 20423296, 'login': 'satamihir', 'display_login': 'satamihir', 'gravatar_id': '', 'url': 'https://api.github.com/users/satamihir', 'avatar_url': 'https://avatars.githubusercontent.com/u/20423296?'}, 'repo': {'id': 258555656, 'name': 'satamihir/React-Task1', 'url': 'https://api.github.com/repos/satamihir/React-Task1'}, 'payload': {'push_id': 4977539814, 'size': 1, 'distinct_size': 1, 'ref': 'refs/heads/master', 'head': '1f806f264556a3caf883d364be3ffdc11cb1ada6', 'before': '4e7843ad3e7e615f385200be0d97fc1d5af0f749', 'commits': [{'sha': '1f806f264556a3caf883d364be3ffdc11cb1ada6', 'author': {'email': 'satamihir@gmail.com', 'name': 'satamihir'}, 'message': 'Delete react-auth.rar', 'distinct': True, 'url': 'https://api.github.com/repos/satamihir/React-Task1/commits/1f806f264556a3caf883d364be3ffdc11cb1ada6'}]}, 'public': True, 'created_at': '2020-04-26T13:41:28Z'}, {'id': '12160514937', 'type': 'IssuesEvent', 'actor': {'id': 263302, 'login': 'raelgc', 'display_login': 'raelgc', 'gravatar_id': '', 'url': 'https://api.github.com/users/raelgc', 'avatar_url': 'https://avatars.githubusercontent.com/u/263302?'}, 'repo': {'id': 4308240, 'name': 'micheleg/dash-to-dock', 'url': 'https://api.github.com/repos/micheleg/dash-to-dock'}, 'payload': {'action': 'opened', 'issue': {'url': 'https://api.github.com/repos/micheleg/dash-to-dock/issues/1187', 'repository_url': 'https://api.github.com/repos/micheleg/dash-to-dock', 'labels_url': 'https://api.github.com/repos/micheleg/dash-to-dock/issues/1187/labels{/name}', 'comments_url': 'https://api.github.com/repos/micheleg/dash-to-dock/issues/1187/comments', 'events_url': 'https://api.github.com/repos/micheleg/dash-to-dock/issues/1187/events', 'html_url': 'https://github.com/micheleg/dash-to-dock/issues/1187', 'id': 607015367, 'node_id': 'MDU6SXNzdWU2MDcwMTUzNjc=', 'number': 1187, 'title': 'Click on \"Show Applications\" in secondary display open it on main display', 'user': {'login': 'raelgc', 'id': 263302, 'node_id': 'MDQ6VXNlcjI2MzMwMg==', 'avatar_url': 'https://avatars2.githubusercontent.com/u/263302?v=4', 'gravatar_id': '', 'url': 'https://api.github.com/users/raelgc', 'html_url': 'https://github.com/raelgc', 'followers_url': 'https://api.github.com/users/raelgc/followers', 'following_url': 'https://api.github.com/users/raelgc/following{/other_user}', 'gists_url': 'https://api.github.com/users/raelgc/gists{/gist_id}', 'starred_url': 'https://api.github.com/users/raelgc/starred{/owner}{/repo}', 'subscriptions_url': 'https://api.github.com/users/raelgc/subscriptions', 'organizations_url': 'https://api.github.com/users/raelgc/orgs', 'repos_url': 'https://api.github.com/users/raelgc/repos', 'events_url': 'https://api.github.com/users/raelgc/events{/privacy}', 'received_events_url': 'https://api.github.com/users/raelgc/received_events', 'type': 'User', 'site_admin': False}, 'labels': [], 'state': 'open', 'locked': False, 'assignee': None, 'assignees': [], 'milestone': None, 'comments': 0, 'created_at': '2020-04-26T13:41:27Z', 'updated_at': '2020-04-26T13:41:27Z', 'closed_at': None, 'author_association': 'NONE', 'body': 'First: really thanks for this awesome extension.\\r\\n\\r\\nI\\'m using it with 2 displays. But when I click in the \"Show Applications\" icon in the secondary display, it\\'s always displayed in the main display.'}}, 'public': True, 'created_at': '2020-04-26T13:41:28Z'}, {'id': '12160514936', 'type': 'WatchEvent', 'actor': {'id': 11027166, 'login': 'Loma95', 'display_login': 'Loma95', 'gravatar_id': '', 'url': 'https://api.github.com/users/Loma95', 'avatar_url': 'https://avatars.githubusercontent.com/u/11027166?'}, 'repo': {'id': 258808474, 'name': 'PatrickWoehnl/DeepCheck', 'url': 'https://api.github.com/repos/PatrickWoehnl/DeepCheck'}, 'payload': {'action': 'started'}, 'public': True, 'created_at': '2020-04-26T13:41:28Z'}, {'id': '12160514931', 'type': 'PushEvent', 'actor': {'id': 23528985, 'login': 'tiredofit', 'display_login': 'tiredofit', 'gravatar_id': '', 'url': 'https://api.github.com/users/tiredofit', 'avatar_url': 'https://avatars.githubusercontent.com/u/23528985?'}, 'repo': {'id': 156040860, 'name': 'tiredofit/docker-freescout', 'url': 'https://api.github.com/repos/tiredofit/docker-freescout'}, 'payload': {'push_id': 4977539812, 'size': 1, 'distinct_size': 1, 'ref': 'refs/heads/master', 'head': '560e205cb2ba250e596ccc2e4ef7a31d522cd7de', 'before': 'deea9ac74e68be7287af6a699370e988550d38a6', 'commits': [{'sha': '560e205cb2ba250e596ccc2e4ef7a31d522cd7de', 'author': {'email': 'dave@tiredofit.ca', 'name': 'Dave Conroy'}, 'message': 'Release 1.7.10 - See CHANGELOG.md', 'distinct': True, 'url': 'https://api.github.com/repos/tiredofit/docker-freescout/commits/560e205cb2ba250e596ccc2e4ef7a31d522cd7de'}]}, 'public': True, 'created_at': '2020-04-26T13:41:27Z'}, {'id': '12160514928', 'type': 'PushEvent', 'actor': {'id': 39292077, 'login': 'WilliamStark9527', 'display_login': 'WilliamStark9527', 'gravatar_id': '', 'url': 'https://api.github.com/users/WilliamStark9527', 'avatar_url': 'https://avatars.githubusercontent.com/u/39292077?'}, 'repo': {'id': 247409095, 'name': 'WilliamStark9527/williamstark9527.github.io', 'url': 'https://api.github.com/repos/WilliamStark9527/williamstark9527.github.io'}, 'payload': {'push_id': 4977539811, 'size': 1, 'distinct_size': 1, 'ref': 'refs/heads/master', 'head': 'ac5dcafb485e00fc100fb7574067991f8ac9d157', 'before': '7631f4435c019a1d4369f35097b3c42d3f75cb80', 'commits': [{'sha': 'ac5dcafb485e00fc100fb7574067991f8ac9d157', 'author': {'email': '39292077+WilliamStark9527@users.noreply.github.com', 'name': 'WilliamStark9527'}, 'message': 'Update 2020-04-26-基于PicGo的GitHub图床.md', 'distinct': True, 'url': 'https://api.github.com/repos/WilliamStark9527/williamstark9527.github.io/commits/ac5dcafb485e00fc100fb7574067991f8ac9d157'}]}, 'public': True, 'created_at': '2020-04-26T13:41:27Z'}, {'id': '12160514930', 'type': 'CreateEvent', 'actor': {'id': 30051089, 'login': 'mohitahuja1', 'display_login': 'mohitahuja1', 'gravatar_id': '', 'url': 'https://api.github.com/users/mohitahuja1', 'avatar_url': 'https://avatars.githubusercontent.com/u/30051089?'}, 'repo': {'id': 259040227, 'name': 'mohitahuja1/learning', 'url': 'https://api.github.com/repos/mohitahuja1/learning'}, 'payload': {'ref': 'master', 'ref_type': 'branch', 'master_branch': 'master', 'description': None, 'pusher_type': 'user'}, 'public': True, 'created_at': '2020-04-26T13:41:27Z'}]\n"
     ]
    },
    {
     "name": "stderr",
     "output_type": "stream",
     "text": [
      "DEBUG:urllib3.connectionpool:http://httpbin.org:80 \"POST /post?content=I+really+like+request.&user_id=152 HTTP/1.1\" 200 508\n",
      "DEBUG:urllib3.connectionpool:Starting new HTTP connection (1): httpbin.org:80\n"
     ]
    },
    {
     "name": "stdout",
     "output_type": "stream",
     "text": [
      "{\n",
      "  \"args\": {\n",
      "    \"content\": \"I really like request.\", \n",
      "    \"user_id\": \"152\"\n",
      "  }, \n",
      "  \"data\": \"\", \n",
      "  \"files\": {}, \n",
      "  \"form\": {}, \n",
      "  \"headers\": {\n",
      "    \"Accept\": \"*/*\", \n",
      "    \"Accept-Encoding\": \"gzip, deflate\", \n",
      "    \"Content-Length\": \"0\", \n",
      "    \"Host\": \"httpbin.org\", \n",
      "    \"User-Agent\": \"python-requests/2.22.0\", \n",
      "    \"X-Amzn-Trace-Id\": \"Root=1-5ea590b5-962497ba585bd4a87ae892a0\"\n",
      "  }, \n",
      "  \"json\": null, \n",
      "  \"origin\": \"183.83.146.140\", \n",
      "  \"url\": \"http://httpbin.org/post?content=I+really+like+request.&user_id=152\"\n",
      "}\n",
      "\n"
     ]
    },
    {
     "name": "stderr",
     "output_type": "stream",
     "text": [
      "DEBUG:urllib3.connectionpool:http://httpbin.org:80 \"DELETE /delete?posts%5B%5D=123&posts%5B%5D=456 HTTP/1.1\" 200 477\n"
     ]
    },
    {
     "name": "stdout",
     "output_type": "stream",
     "text": [
      "{'args': {'posts[]': ['123', '456']}, 'data': '', 'files': {}, 'form': {}, 'headers': {'Accept': '*/*', 'Accept-Encoding': 'gzip, deflate', 'Content-Length': '0', 'Host': 'httpbin.org', 'User-Agent': 'python-requests/2.22.0', 'X-Amzn-Trace-Id': 'Root=1-5ea590b6-0d690a0ca21cb7dfbf81e92a'}, 'json': None, 'origin': '183.83.146.140', 'url': 'http://httpbin.org/delete?posts[]=123&posts[]=456'}\n"
     ]
    }
   ],
   "source": [
    "import requests\n",
    "\n",
    "r = requests.get('http://httpbin.org/get')\n",
    "\n",
    "print(r.status_code)\n",
    "print(r.ok)\n",
    "print(r.headers)\n",
    "\n",
    "github_request = requests.get('https://api.github.com/events')\n",
    "print(github_request.json())\n",
    "\n",
    "# post requests\n",
    "payload = {'content' : \"I really like request.\", 'user_id': 152}\n",
    "r = requests.post('http://httpbin.org/post', params=payload)\n",
    "print(r.text)\n",
    "\n",
    "payload = {'posts[]': [123,456]}\n",
    "r = requests.delete('http://httpbin.org/delete', params=payload)\n",
    "print(r.json())"
   ]
  },
  {
   "cell_type": "markdown",
   "metadata": {},
   "source": [
    "### <a name=\"datetime\">datetime</a>"
   ]
  },
  {
   "cell_type": "code",
   "execution_count": 47,
   "metadata": {},
   "outputs": [
    {
     "name": "stdout",
     "output_type": "stream",
     "text": [
      "2020-04-26 20:32:13.466776\n",
      "2020-04-26 09:00:00\n",
      "1\n",
      "66733\n",
      "2020-04-29\n",
      "6\n",
      "April 29\n",
      "2015-04-21 00:00:00\n"
     ]
    }
   ],
   "source": [
    "import datetime\n",
    "\n",
    "print(datetime.datetime.now())\n",
    "\n",
    "work_start = datetime.datetime.now()\n",
    "work_start = work_start.replace(hour=9, minute=0, second=0,microsecond=0)\n",
    "print(work_start)\n",
    "\n",
    "today_start = datetime.datetime(2020, 4, 25, 2, 0)\n",
    "time_worked = datetime.datetime.now() - today_start # returns datetime.timedelta\n",
    "print(time_worked.days)\n",
    "print(time_worked.seconds)\n",
    "\n",
    "now = datetime.datetime.now()\n",
    "now = now + datetime.timedelta(days=3)\n",
    "print(now.date())\n",
    "\n",
    "today = datetime.datetime.today()\n",
    "print(today.weekday())\n",
    "\n",
    "# strftime - Method to create a string from a datetime\n",
    "# strptime - Method to create a datetime from a string according to a format string\n",
    "print(now.strftime('%B %d'))\n",
    "\n",
    "birthday = datetime.datetime.strptime('2015-04-21', '%Y-%m-%d')\n",
    "print(birthday)"
   ]
  }
 ],
 "metadata": {
  "kernelspec": {
   "display_name": "Python 3",
   "language": "python",
   "name": "python3"
  },
  "language_info": {
   "codemirror_mode": {
    "name": "ipython",
    "version": 3
   },
   "file_extension": ".py",
   "mimetype": "text/x-python",
   "name": "python",
   "nbconvert_exporter": "python",
   "pygments_lexer": "ipython3",
   "version": "3.7.4"
  }
 },
 "nbformat": 4,
 "nbformat_minor": 2
}
